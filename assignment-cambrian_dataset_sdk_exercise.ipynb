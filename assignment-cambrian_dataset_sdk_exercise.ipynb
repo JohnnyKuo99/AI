{
 "cells": [
  {
   "cell_type": "markdown",
   "metadata": {},
   "source": [
    "# Assignment - Dataset\n",
    "\n"
   ]
  },
  {
   "cell_type": "markdown",
   "metadata": {},
   "source": [
    "##  目的\n",
    "\n",
    "在本次作業中，學員將練習使用Cambrian Dataset SDK上傳/下載Cambrian Dataset，<br>\n",
    "並透過Python的h5py模組訪問Cambrian Dataset，了解如何使用Cambrian Dataset"
   ]
  },
  {
   "cell_type": "markdown",
   "metadata": {},
   "source": [
    "## 評分標準\n",
    "\n",
    "1. 完成資料集下載函式並正確下載資料集 (30%)\n",
    "2. 用matplotlib畫出dataset內容 (40%)\n",
    "3. 上傳一包資料集 (30%)"
   ]
  },
  {
   "cell_type": "markdown",
   "metadata": {},
   "source": [
    "# Cambrain Dataset SDK與Dataset介紹\n",
    "\n",
    "學員可以使用Cambrain Dataset SDK的add()或get()方法以上傳/下載Dataset<br>\n",
    "詳細的用法參考課程影片<br>\n",
    "(1) SDK introduction for datasets<br>\n",
    "(2) Hands-on: SDK operation and sample code<br>\n",
    "\n"
   ]
  },
  {
   "cell_type": "markdown",
   "metadata": {},
   "source": [
    "## 0 - 從解決方案分享資料集到工作空間\n",
    "根據下面連結的說明把 Cambrian Tutorial 解決方案裡面建立的 **training_1/training_2/validation_1** 分享到目前的工作空間 <br>\n",
    "https://moodle.pegatroncorp.com/mod/forum/discuss.php?d=455 <br>\n",
    "\n",
    "分享完成後可以在 **工作空間專案** -> **資料管理** -> **管理資料集** 裡面看到資料集 <br>\n",
    "<img src=\"md_image/dataset_sdk/share_dataset.png\" style=\"margin:10px 0px\">\n"
   ]
  },
  {
   "cell_type": "markdown",
   "metadata": {},
   "source": [
    "##  1.1 - 下載 Dataset\n",
    "\n",
    "Cambrain Dataset SDK的 **get()** 方法可將 **\"資料集\"** 的Dataset 下載至 **jupyter環境** 。\n",
    "\n",
    "```python\n",
    "def get(dataset_token, token, filename):\n",
    "    ''' get dataset from Cambrian Dataset\n",
    "    Args:\n",
    "        dataset_token: 工作空間的dataset token，輸入格式為string\n",
    "        token: jupyter環境的專案token，輸入格式為string \n",
    "        filename: jupyter環境的dataset儲存名稱\n",
    "    Returns:\n",
    "        download_filename:str, should be the same as filename while download success, otherwise return None\n",
    "    '''\n",
    "```"
   ]
  },
  {
   "cell_type": "code",
   "execution_count": 1,
   "metadata": {},
   "outputs": [],
   "source": [
    "import os\n",
    "import sys\n",
    "import json\n",
    "import h5py\n",
    "import cv2\n",
    "import numpy as np\n",
    "import matplotlib.pyplot as plt\n",
    "from io import BytesIO\n",
    "from PIL import Image\n",
    "from cambrian import Dataset"
   ]
  },
  {
   "cell_type": "markdown",
   "metadata": {},
   "source": [
    "### Practice: 實作download_dataset函式\n",
    "```python\n",
    "def download_dataset(dataset_token, token, filename):\n",
    "    '''\n",
    "    Args:\n",
    "        dataset_token:string, 工作空間的dataset token\n",
    "        token:string, jupyter環境的專案token\n",
    "        filename:string, jupyter環境的dataset儲存名稱\n",
    "    Returns:\n",
    "        N/A\n",
    "    '''\n",
    "```"
   ]
  },
  {
   "cell_type": "code",
   "execution_count": 3,
   "metadata": {},
   "outputs": [],
   "source": [
    "def download_dataset(dataset_token, token, filename):\n",
    "    '''\n",
    "    Args:\n",
    "        dataset_token:string, 工作空間的dataset token\n",
    "        token:string, jupyter環境的專案token\n",
    "        filename:string, jupyter環境的dataset儲存名稱\n",
    "    Returns:\n",
    "        N/A\n",
    "    '''\n",
    "    \n",
    "    # 初始化Dataset object，接下來才可以投過ds來使用Dataset相關的API，例如: ds.get/ds.add\n",
    "    ds = Dataset(verbose = None)\n",
    "    \n",
    "    ### Hint: 使用Dataset SDK的get()函式\n",
    "    ### 開始編寫\n",
    "    ret = ds.get(dataset_token,token,filename)\n",
    "    ### 結束編寫\n",
    "    \n",
    "    if ret is not None: \n",
    "        print(\"Download dataset_token({}) as ({}) success\".format(dataset_token, ret))\n",
    "    else:\n",
    "        print(\"Fail to download dataset_token({}) ...\".format(dataset_token))\n"
   ]
  },
  {
   "cell_type": "markdown",
   "metadata": {},
   "source": [
    "### 測試download_dataset函式\n",
    "#### 將這個工作空間的Token填入 project_token\n",
    "#### 將步驟0分享的資料集Token填入training_1_token與training_2_token，下圖僅為參考，請填寫自己的dataset token。\n",
    "<img src=\"md_image/dataset_sdk/download_dataset.png\" style=\"margin: 10px 0px\">\n"
   ]
  },
  {
   "cell_type": "code",
   "execution_count": 50,
   "metadata": {},
   "outputs": [
    {
     "name": "stdout",
     "output_type": "stream",
     "text": [
      "Download dataset_token(955feff6ee82c26d9887e41a048e01e1) as (training_1.h5) success\n",
      "Download dataset_token(57044ffb50364deddf4acb40649be6b3) as (training_2.h5) success\n"
     ]
    }
   ],
   "source": [
    "# 下載資料集測試，填寫要下載的資料集\n",
    "# 工作空間的 Project Token\n",
    "project_token = os.getenv(\"PROJECT_TOKEN\", None)\n",
    "assert project_token != None, \"Fail to get PROJECT_TOKEN form environment variables ...\"\n",
    "### 開始編寫\n",
    "# 填寫在步驟 0 所分享的資料集 Token\n",
    "# dataset token是字串類型，範例: training_1_token = \"1234567890\"\n",
    "training_1_token = \"955feff6ee82c26d9887e41a048e01e1\"\n",
    "training_2_token = \"57044ffb50364deddf4acb40649be6b3\"\n",
    "### 結束編寫\n",
    "\n",
    "train_1 = 'training_1.h5'\n",
    "train_2 = 'training_2.h5'\n",
    "# download dataset training_1 and training_2\n",
    "download_dataset(training_1_token, project_token, train_1)\n",
    "download_dataset(training_2_token, project_token, train_2)\n",
    "\n",
    "\n",
    "# check dataset token None?\n",
    "for dataset_token in [training_1_token, training_2_token]:\n",
    "    assert dataset_token != None, \"None is invalid dataset token, please correct it!!!\"\n",
    "\n",
    "# check dataset exist?\n",
    "for dataset in [train_1, train_2]:\n",
    "    assert os.path.exists(dataset), \"Fail to download dataset {}, please check that you have this dataset ...\".format(dataset)"
   ]
  },
  {
   "cell_type": "markdown",
   "metadata": {},
   "source": [
    "### <b>預期結果</b>\n",
    "\n",
    "如果下載成功Dataset，學員將會看到如下訊息，並在當前資料夾看到 **\"training_1.h5\"** 與 **\"training_2.h5\"** 兩個Dataset：\n",
    "<img src=\"md_image/dataset_sdk/download.png\" width=\"600\" height=\"300\" style=\"float:left\">"
   ]
  },
  {
   "cell_type": "markdown",
   "metadata": {},
   "source": [
    "##  1.2 - 使用h5py模組訪問 Dataset\n",
    "\n",
    "標註平台建立的資料集格式為hdf5(副檔名.h5或是.hdf5都屬於hdf格式)，是一種有層級的資料格式，與資料夾檔案系統類似。\n",
    "\n",
    "若要以python訪問hdf5資料，首先請導入h5py模組：\n",
    "\n",
    "學員可以使用h5py.File()方法訪問hdf5資料，此方法有許多不同的模式可以訪問hdf5資料，詳細說明請參考h5py官方文件：<br>\n",
    "HDF5 for Python: http://docs.h5py.org/en/stable/quick.html#quick <br>\n",
    "\n",
    "<mark>Note: 以python with開啟檔案，當檔案使用完畢或不預期的問題發生時會自動關閉檔案\n",
    "\n",
    "```python\n",
    "with h5py.File('training_1.h5', 'r') as f:  # 'r'模式開啟training_1.h5，只能讀取不能改寫\n",
    "    print(f.keys())  # 顯示f的key\n",
    "    print(f['train'].keys()) # 顯示f['train']的key，可看到f['train']有用於儲存圖片的'images'或是標註資料的'meta-label'\n",
    "    print(f['meta-dataset']) # 顯示f['meta-dataset']的資訊\n",
    "    print(f['meta-dataset'][0]) # 顯示f['meta-dataset'][0]的value\n",
    "```\n",
    "\n",
    "HDF檔案結構與python的dictionary相似，可藉由key-value(鍵-值)相關方法搜索key或是讀取value：\n",
    "\n",
    "```python\n",
    "print(f.keys())   # 顯示f的key\n",
    "output: <KeysViewHDF5 ['meta-dataset', 'train']>   # 'meta-dataset'與'train'為f的key\n",
    "\n",
    "\n",
    "print(f['train'].keys())   # 顯示f['train']的key，可看到f['train']有用於儲存圖片的'images'或是標註資料的'meta-label'\n",
    "output: <KeysViewHDF5 ['images', 'meta-info', 'meta-label']>\n",
    "\n",
    "\n",
    "print(f['meta-dataset'])    # 顯示f['meta-dataset']的資訊\n",
    "output: <HDF5 dataset \"meta-dataset\": shape (1,), type \"|O\">\n",
    "\n",
    "\n",
    "print(f['meta-dataset'][0])   # 顯示f['meta-dataset'][0]的value，python的索引值都是從[0]開始，f['meta-dataset'][0]代                                     表第一筆資料，f['meta-dataset'][1]代表第二筆資料，以此類推...\n",
    "output: {\"general\": {\"image_count\": {\"train\": 30, \"validate\": 0, \"test\": 0}, \"labeled_image_count\": 30, \"unlabeled_image_count\": 0, \"description\": \"\", \"application_type\": \"\", \"data_created\": \"2020-05-20T11:06:15.801734\", \"project_token\": \"bb742f54e87f71b468269b26090301cf\", \"data_type\": [], \"module_name\": [], \"name\": \"training_1\"}, \"location\": {\"bu\": [], \"campus\": [], \"plant\": [], \"line\": [], \"station\": []}, \"image\": {\"color_type\": \"BGR888\", \"image_resolution\": {}}, \"manufacturing\": {\"product_name\": [], \"product_sku\": [], \"part_id\": [], \"part_number\": []}, \"label\": {\"categories\": [{\"id\": 1, \"name\": \"1\", \"supercategory\": \"\"}, {\"id\": 2, \"name\": \"2\", \"supercategory\": \"\"}, {\"id\": 3, \"name\": \"3\", \"supercategory\": \"\"}, {\"id\": 4, \"name\": \"4\", \"supercategory\": \"\"}, {\"id\": 5, \"name\": \"5\", \"supercategory\": \"\"}, {\"id\": 6, \"name\": \"6\", \"supercategory\": \"\"}, {\"id\": 7, \"name\": \"7\", \"supercategory\": \"\"}, {\"id\": 8, \"name\": \"8\", \"supercategory\": \"\"}, {\"id\": 9, \"name\": \"9\", \"supercategory\": \"\"}, {\"id\": 10, \"name\": \"0\", \"supercategory\": \"\"}], \"number_of_keypoints\": null, \"keypoint_name_list\": null, \"bar_code_type\": null, \"segmentation_type\": null, \"label_type\": [\"classification\"]}, \"filter_options\": {}, \"misc\": {\"job_id\": 99, \"job_name\": \"training_1\", \"creator\": \"wade_li\", \"resize\": \"none\"}}\n",
    "\n",
    "```\n",
    "\n"
   ]
  },
  {
   "cell_type": "markdown",
   "metadata": {},
   "source": [
    "## 1.2.1 - Cambrian dataset image format\n",
    "Cambrian標記平台提供兩種格式來進行資料集封裝，分別是**BGR888**以及**原始檔案(Binary)** <br>\n",
    "可以透過程式讀取資料集的meta-info裡面獲取是屬於哪一種封裝格式 **(meta-info裡面的color欄位)** <br><br>\n",
    "範例: (cambrain_tutorial_binary.h5 裡面只有meta-dataset 跟 train) <br>\n",
    "```python\n",
    "    with h5py.File('cambrian_tutorial_binary.h5', 'r') as h5:\n",
    "        print(h5.keys())\n",
    "        train = h5['train']\n",
    "        print(train.keys())\n",
    "        images = train['images']\n",
    "        infos = train['meta-info']\n",
    "        labels = train['meta-label']\n",
    "\n",
    "        # select the first image to show the informations ...\n",
    "        image = images[0]\n",
    "        info = json.loads(infos[0])\n",
    "        label = json.loads(labels[0])\n",
    "        print(info)\n",
    "\n",
    "        \n",
    "    output:\n",
    "        <KeysViewHDF5 ['meta-dataset', 'train']>\n",
    "        <KeysViewHDF5 ['images', 'meta-info', 'meta-label']>\n",
    "        {'width': 28, 'height': 28, 'color': 'Binary', 'file_name': 'training_2_78_5.jpg', 'file_token': '', 'folder_name': 'upload/validation_1', 'source_project_token': '9513399506e0c3fce4073f13165b6714'}\n",
    "\n",
    "        \n",
    "```"
   ]
  },
  {
   "cell_type": "markdown",
   "metadata": {},
   "source": [
    "### Practice: 實作get_data函式\n",
    "```python\n",
    "def get_data(h5_file, category, index)\n",
    "    '''\n",
    "    Args\n",
    "        h5_file: 要開啟的資料集檔案名稱，輸入格式為string\n",
    "        category: dataset的分類，如'train', 'validate'或是'test'，輸入格式為string\n",
    "        index: 圖片索引值，輸入格式為int，起始值為0。ex: 取得第10個圖檔的index為9\n",
    "    Returns\n",
    "        image:nd-array, image\n",
    "        label:str, label name\n",
    "    '''\n",
    "```\n",
    "\n",
    "<details>    \n",
    "<summary>\n",
    "    <font size=\"3\" color=\"darkgreen\"><b>Hints</b></font>\n",
    "</summary>\n",
    "<p>\n",
    "<ul>\n",
    "    <li>要先判斷要取得的圖片的封裝格式決定如何取得圖片檔案</li>\n",
    "    <li>原始檔案的讀取方式: Image.open(BytesIO(image))</li>\n",
    "</ul>\n",
    "</p>"
   ]
  },
  {
   "cell_type": "code",
   "execution_count": 89,
   "metadata": {},
   "outputs": [],
   "source": [
    "def get_data(h5_file, category, index):\n",
    "    '''\n",
    "    Args\n",
    "        h5_file: 要開啟的資料集檔案名稱，輸入格式為string\n",
    "        category: dataset的分類，如'train', 'validate'或是'test'，輸入格式為string\n",
    "        index: 圖片索引值，輸入格式為int，起始值為0。ex: 取得第10個圖檔的index為9\n",
    "    Returns\n",
    "        image:nd-array, image\n",
    "        label:str, label name\n",
    "    '''\n",
    "\n",
    "    with h5py.File(h5_file, 'r') as f:\n",
    "        ### Hint: \n",
    "        ### 每個資料集裡面可能會有 \"train\", \"validate\", \"test\" 這三個群組，category就是用來指定要取得的是哪一個群組\n",
    "        ### 每個群組裡面會有\"images\", \"meta-label\", \"meta-info\"，每個 key 所代表的意義如下\n",
    "        ###     images: 被打包的圖檔，格式有兩種。 1. BGR888 (numpy.ndarray) 2. 原始檔案\n",
    "        ###     meta-label: 每張圖片對應的標記結果\n",
    "        ###     meta-info: 每張圖片對應的圖片資訊\n",
    "        ### 開始編寫\n",
    "        # 根據輸入參數 category 取得 images/meta-info/meta-label\n",
    "        # ex: f[...][...]\n",
    "\n",
    "    \n",
    "        #print(f[category]['images'])\n",
    "        images = f[category]['images']\n",
    "        meta_info = f[category]['meta-info']\n",
    "        meta_label = f[category]['meta-label']\n",
    "\n",
    "        print(meta_label[index])\n",
    "            \n",
    "        # 取得 meta-info第 n(index) 筆的資訊\n",
    "        # 取得 meta-info 裡面的 \"color\" 欄位資訊(封裝格式)\n",
    "        info = json.loads(meta_info[index])\n",
    "        image_format = info['color']\n",
    "        \n",
    "        # 取得 meta-label n(index) 筆的資訊\n",
    "        # 取得 meta-label 裡面的 \"category\" 欄位資訊(標記的類別名稱)\n",
    "        label_data = json.loads(meta_label[index])\n",
    "        # label_data 的格式是[dict]，裡面存放的是圖片的標記資訊\n",
    "        # 用 label_data[...][...] 取得正確的標記\n",
    "        label = label_data[0]['category'] \n",
    "                \n",
    "        # 用 image_format判斷是哪種封裝格式，不同的格式從hdf5裡面讀取出檔案的方式不同，讀取資料的方式如下\n",
    "        # - BGR888: 指定 images第 n(index)筆資料直接取出即可\n",
    "        # - Binary: 指定 images第 n(index)筆資料後，接著使用 Image.open(BytesIO(取得的Binary資訊)) \n",
    "        if image_format == 'BGR888':\n",
    "            image = images[index]\n",
    "        elif image_format == 'Binary':\n",
    "            image = images[index]\n",
    "            image = image.convert('RGB')\n",
    "            image = np.array(image)[..., ::-1]\n",
    "        else:\n",
    "            print('unsupported image format ...')\n",
    "            # do not edit ...\n",
    "            image = None\n",
    "\n",
    "        ### 結束編寫\n",
    "\n",
    "    return image, label\n"
   ]
  },
  {
   "cell_type": "markdown",
   "metadata": {},
   "source": [
    "### 測試get_data函式"
   ]
  },
  {
   "cell_type": "code",
   "execution_count": 90,
   "metadata": {},
   "outputs": [
    {
     "name": "stdout",
     "output_type": "stream",
     "text": [
      "[{\"id\": 27, \"image_id\": 27, \"category_id\": 4, \"category_name\": \"4\", \"category\": \"4\"}]\n",
      "Label: 4\n"
     ]
    },
    {
     "data": {
      "image/png": "[encoded data removed]",
      "text/plain": [
       "<Figure size 432x288 with 1 Axes>"
      ]
     },
     "metadata": {
      "needs_background": "light"
     },
     "output_type": "display_data"
    }
   ],
   "source": [
    "# test get BGR888 data\n",
    "image, label = get_data('training_1.h5', 'train', 0)\n",
    "plt.imshow(cv2.cvtColor(image, cv2.COLOR_BGR2RGB))\n",
    "print('Label: {}'.format(label))"
   ]
  },
  {
   "cell_type": "markdown",
   "metadata": {},
   "source": [
    "### Practice: 請使用get_data函式取得training_2.h5資料集裡面train的第30個圖檔以及標記\n"
   ]
  },
  {
   "cell_type": "code",
   "execution_count": 91,
   "metadata": {},
   "outputs": [
    {
     "name": "stdout",
     "output_type": "stream",
     "text": [
      "[{\"id\": 44, \"image_id\": 44, \"category_id\": 6, \"category_name\": \"6\", \"category\": \"6\"}]\n",
      "Label: 6\n"
     ]
    },
    {
     "data": {
      "image/png": "[encoded data removed]",
      "text/plain": [
       "<Figure size 432x288 with 1 Axes>"
      ]
     },
     "metadata": {
      "needs_background": "light"
     },
     "output_type": "display_data"
    }
   ],
   "source": [
    "### Hint: index起始為0，第10個圖檔輸入的index為9\n",
    "### 開始編寫\n",
    "image, label = get_data('training_2.h5', 'train', 29)\n",
    "### 結束編寫\n",
    "plt.imshow(cv2.cvtColor(image, cv2.COLOR_BGR2RGB))\n",
    "print('Label: {}'.format(label))"
   ]
  },
  {
   "cell_type": "markdown",
   "metadata": {},
   "source": [
    "##  1.3 - 上傳 Dataset\n",
    "\n",
    "Cambrain Dataset SDK的 **add()** 方法可將 **jupyter環境** 的.hdf5或是.h5檔案上傳至 **\"工作空間\"** 的 **\"資料集\"**  。\n",
    "\n",
    "```python\n",
    "def add(filename, token, name, visible, meta)\n",
    "    ''' add a dataset to Cambrian Dataset\n",
    "    Args:\n",
    "        filename:string, jupyter環境的h5檔案名稱\n",
    "        token:string, jupyter環境的專案token\n",
    "        name:string, 資料集列表顯示的dataset名稱\n",
    "        visible:string, dataset在資料集是否公開\n",
    "        meta:dict. f['meta-dataset'][0]的資訊，輸入格式為dictionary\n",
    "    Returns:\n",
    "        result:dict\n",
    "    '''\n",
    "```"
   ]
  },
  {
   "cell_type": "markdown",
   "metadata": {},
   "source": [
    "### Practice: 實作upload_dataset函式\n",
    "```python\n",
    "def upload_dataset(filename, token, name, visible, meta)\n",
    "    ''' upload dataset to cambrian platform\n",
    "    Args\n",
    "        filename: jupyter環境的h5檔案名稱，輸入格式為string\n",
    "        token: jupyter環境的專案token，輸入格式為string\n",
    "        name: 工作空間資料集的dataset名稱，輸入格式為string\n",
    "        visible: 工作空間資料集的dataset是否可被其他人瀏覽，輸入格式為string，'public'為公開，'private'為非公開\n",
    "        meta: f['meta-dataset'][0]的資訊，輸入格式為dictionary\n",
    "    Return\n",
    "        token: upload dataset token\n",
    "    '''\n",
    "```"
   ]
  },
  {
   "cell_type": "code",
   "execution_count": 92,
   "metadata": {},
   "outputs": [],
   "source": [
    "def upload_dataset(filename, token, name, visible, meta):\n",
    "    ''' upload dataset to cambrian platform\n",
    "    Args\n",
    "        filename: jupyter環境的h5檔案名稱，輸入格式為string\n",
    "        token: jupyter環境的專案token，輸入格式為string\n",
    "        name: 工作空間資料集的dataset名稱，輸入格式為string\n",
    "        visible: 工作空間資料集的dataset是否可被其他人瀏覽，輸入格式為string，'public'為公開，'private'為非公開\n",
    "        meta: f['meta-dataset'][0]的資訊，輸入格式為dictionary\n",
    "    Return\n",
    "        token: upload dataset token\n",
    "    '''    \n",
    "    ds = Dataset(verbose = None)\n",
    "\n",
    "    ### Hint:使用 Dataset SDK的add()函式\n",
    "    ### 開始編寫\n",
    "    ret = ds.add(filename, token, name, visible, meta)\n",
    "    ### 結束編寫\n",
    "    if ret is None:\n",
    "        print(\"add {} error.\".format(file_obj))\n",
    "        sys.exit(1)\n",
    "        \n",
    "    dataset_token = ret.get('datasetToken', None)\n",
    "    print(\"Add dataset success, dataset_token({})\".format(dataset_token))\n",
    "    return dataset_token"
   ]
  },
  {
   "cell_type": "markdown",
   "metadata": {},
   "source": [
    "### 測試upload_dataset上傳資料集到cambrian平台\n",
    "creator : 使用者名稱<br>\n",
    "project_token : 目前工作空間的project token，可以在Jupyter main page看到，如下圖\n",
    "<img src=\"md_image/dataset_sdk/project_token.png\" style=\"float:left\">"
   ]
  },
  {
   "cell_type": "code",
   "execution_count": 93,
   "metadata": {},
   "outputs": [
    {
     "name": "stderr",
     "output_type": "stream",
     "text": [
      "2021-05-19 05:24:26,533 - cambrian.dataset/INFO - Use meta:{\"general\": {\"spec_version\": \"2021.04.21\", \"image_count\": {\"train\": 30, \"validate\": 0, \"test\": 0}, \"labeled_image_count\": 30, \"unlabeled_image_count\": 0, \"image_dataset_format\": \"BGR888\", \"description\": \"\", \"application_type\": \"\", \"data_created\": \"2021-05-04T18:23:04.766092\", \"project_token\": \"112e8d07f967c25fb5c0e294307158f6\", \"data_type\": [], \"module_name\": [], \"name\": \"training_1\", \"consensus\": {}}, \"location\": {\"bu\": [], \"campus\": [], \"plant\": [], \"line\": [], \"station\": []}, \"image\": {\"color_type\": \"BGR888\", \"image_resolution\": {\"28x28\": 30}}, \"manufacturing\": {\"product_name\": [], \"product_sku\": [], \"part_id\": [], \"sub_part_id\": [], \"part_number\": []}, \"label\": {\"categories\": [{\"id\": 1, \"name\": \"1\", \"supercategory\": \"\"}, {\"id\": 2, \"name\": \"2\", \"supercategory\": \"\"}, {\"id\": 3, \"name\": \"3\", \"supercategory\": \"\"}, {\"id\": 4, \"name\": \"4\", \"supercategory\": \"\"}, {\"id\": 5, \"name\": \"5\", \"supercategory\": \"\"}, {\"id\": 6, \"name\": \"6\", \"supercategory\": \"\"}, {\"id\": 7, \"name\": \"7\", \"supercategory\": \"\"}, {\"id\": 8, \"name\": \"8\", \"supercategory\": \"\"}, {\"id\": 9, \"name\": \"9\", \"supercategory\": \"\"}, {\"id\": 10, \"name\": \"0\", \"supercategory\": \"\"}], \"number_of_keypoints\": null, \"keypoint_name_list\": null, \"bar_code_type\": null, \"segmentation_type\": null, \"label_type\": [\"classification\"]}, \"filter_options\": {\"File Name\": \"training_1\", \"Ratio\": 100}, \"misc\": {\"job_id\": 0, \"job_name\": \"\", \"creator\": \"Johnny Kuo\", \"resize\": \"none\"}}\n"
     ]
    },
    {
     "name": "stdout",
     "output_type": "stream",
     "text": [
      "Add dataset success, dataset_token(f5a4620241c3238e15c903a6a2c3b8a1)\n",
      "upload token: f5a4620241c3238e15c903a6a2c3b8a1\n"
     ]
    }
   ],
   "source": [
    "filename = \"training_1.h5\" # source file\n",
    "name = \"upload_by_sdk\" # upload name\n",
    "visible = 'private'\n",
    "token = os.getenv('PROJECT_TOKEN', None)\n",
    "assert token != None, 'Fail to get PROJECT_TOKEN from environment variable'\n",
    "\n",
    "### 開始編寫\n",
    "creator = \"Johnny Kuo\"\n",
    "### 結束編寫\n",
    "\n",
    "hdf5_file = h5py.File(filename,'r')\n",
    "meta = json.loads(hdf5_file['meta-dataset'][0])\n",
    "misc = {\"job_id\": 0, \"job_name\": \"\", \"creator\": creator, \"resize\": \"none\"}\n",
    "meta['misc'] = misc\n",
    "\n",
    "# upload dataset to cambrian\n",
    "token = upload_dataset(filename, token, name, visible, meta)\n",
    "\n",
    "print('upload token: {}'.format(token))"
   ]
  },
  {
   "cell_type": "markdown",
   "metadata": {},
   "source": [
    "### 預期結果\n",
    "如下圖的結果，但token會是另外一組\n",
    "<br><img src=\"md_image/dataset_sdk/upload_dataset_success.png\" width=\"600\" height=\"300\" style=\"float:left\">"
   ]
  },
  {
   "cell_type": "markdown",
   "metadata": {},
   "source": [
    "## Assignment Finished\n",
    "### Congratulations!! Remember to upload your assignment snapshot to moodle"
   ]
  },
  {
   "cell_type": "code",
   "execution_count": null,
   "metadata": {},
   "outputs": [],
   "source": []
  }
 ],
 "metadata": {
  "kernelspec": {
   "display_name": "Python 3",
   "language": "python",
   "name": "python3"
  },
  "language_info": {
   "codemirror_mode": {
    "name": "ipython",
    "version": 3
   },
   "file_extension": ".py",
   "mimetype": "text/x-python",
   "name": "python",
   "nbconvert_exporter": "python",
   "pygments_lexer": "ipython3",
   "version": "3.6.8"
  }
 },
 "nbformat": 4,
 "nbformat_minor": 2
}
